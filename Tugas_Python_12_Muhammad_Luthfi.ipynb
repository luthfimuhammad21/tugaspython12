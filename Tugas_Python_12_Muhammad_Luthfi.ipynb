{
  "nbformat": 4,
  "nbformat_minor": 0,
  "metadata": {
    "colab": {
      "name": "Tugas Python 12_Muhammad Luthfi.ipynb",
      "provenance": [],
      "authorship_tag": "ABX9TyOsr2hmrRP7V87WlKtDYjy0",
      "include_colab_link": true
    },
    "kernelspec": {
      "name": "python3",
      "display_name": "Python 3"
    }
  },
  "cells": [
    {
      "cell_type": "markdown",
      "metadata": {
        "id": "view-in-github",
        "colab_type": "text"
      },
      "source": [
        "<a href=\"https://colab.research.google.com/github/luthfimuhammad21/tugaspython12/blob/main/Tugas_Python_12_Muhammad_Luthfi.ipynb\" target=\"_parent\"><img src=\"https://colab.research.google.com/assets/colab-badge.svg\" alt=\"Open In Colab\"/></a>"
      ]
    },
    {
      "cell_type": "code",
      "metadata": {
        "id": "Hkkkokb1GTQP"
      },
      "source": [
        "import numpy as np"
      ],
      "execution_count": 1,
      "outputs": []
    },
    {
      "cell_type": "code",
      "metadata": {
        "id": "ZM9ALZypGa-r"
      },
      "source": [
        "def ploss(fc, ht, d, area, hg) :\r\n",
        "\r\n",
        "  if fc >= 400000 and fc <= 1500000:\r\n",
        "    c1 = 69.55\r\n",
        "    c2 = 26.16\r\n",
        "  elif fc > 1500000 and fc <= 2000000:\r\n",
        "    c1 = 46.3\r\n",
        "    c2 = 33.9\r\n",
        "  \r\n",
        "  if area == \"urban\":\r\n",
        "    cm = 0\r\n",
        "  elif area == \"suburb\":\r\n",
        "    cm = -2*(np.log10(fc/28))**2 - 5.4\r\n",
        "  elif area == \"open\":\r\n",
        "    cm = -4.78*(np.log10(fc))**2 + (18.33*np.log10(fc)) - 40.94\r\n",
        "\r\n",
        " \r\n",
        "  ahg = ((1.1*np.log10(fc)) - 0.7)*(hg) - ((1.56*np.log10(fc)) - 0.8)\r\n",
        "  Lp = c1 + c2*np.log10(fc) - 13.83*np.log10(ht) - (ahg) + (44.9 - 6.55*np.log10(ht))*np.log10(d) + cm\r\n",
        "  return Lp"
      ],
      "execution_count": 2,
      "outputs": []
    },
    {
      "cell_type": "code",
      "metadata": {
        "colab": {
          "base_uri": "https://localhost:8080/"
        },
        "id": "HpJYML8rGceK",
        "outputId": "0f41430c-ed58-440a-8669-8f3dbab65e4a"
      },
      "source": [
        "PL = ploss(400000, 300, 5, \"suburb\", 10)\r\n",
        "print(\"pathloss :\", PL, \"dB\")"
      ],
      "execution_count": 3,
      "outputs": [
        {
          "output_type": "stream",
          "text": [
            "pathloss : 115.27429957803389 dB\n"
          ],
          "name": "stdout"
        }
      ]
    }
  ]
}